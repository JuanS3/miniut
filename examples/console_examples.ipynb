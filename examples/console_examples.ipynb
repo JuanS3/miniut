{
 "cells": [
  {
   "cell_type": "code",
   "execution_count": 1,
   "metadata": {},
   "outputs": [],
   "source": [
    "import miniut\n",
    "from miniut import console"
   ]
  },
  {
   "cell_type": "code",
   "execution_count": 2,
   "metadata": {},
   "outputs": [
    {
     "data": {
      "text/plain": [
       "'0.1.0'"
      ]
     },
     "execution_count": 2,
     "metadata": {},
     "output_type": "execute_result"
    }
   ],
   "source": [
    "miniut.__version__"
   ]
  },
  {
   "cell_type": "code",
   "execution_count": 3,
   "metadata": {},
   "outputs": [],
   "source": [
    "console.init()\n",
    "console.clear_screen()"
   ]
  },
  {
   "cell_type": "markdown",
   "metadata": {},
   "source": [
    "## Basic printing"
   ]
  },
  {
   "cell_type": "code",
   "execution_count": 4,
   "metadata": {},
   "outputs": [
    {
     "name": "stdout",
     "output_type": "stream",
     "text": [
      "This print is the same that ptyhon print function\n",
      "This print is the same that console println function\n",
      "This print is the same that ptyhon print function\n",
      "This print is the same that console println function\n"
     ]
    }
   ],
   "source": [
    "console.println('This print is the same that ptyhon print function')\n",
    "print('This print is the same that console println function')\n",
    "\n",
    "console.println('This','print','is','the','same','that','ptyhon','print','function')\n",
    "print('This','print','is','the','same','that','console','println','function')"
   ]
  },
  {
   "cell_type": "code",
   "execution_count": 5,
   "metadata": {},
   "outputs": [
    {
     "name": "stdout",
     "output_type": "stream",
     "text": [
      "Colors in the console: ['RED', 'GREEN', 'YELLOW', 'BLUE', 'MAGENTA', 'CYAN']\n",
      "Colorized text\n",
      "Colorized text\n",
      "Colorized text\n"
     ]
    }
   ],
   "source": [
    "console.println(f'Colors in the console: {console.COLORS_LIST}')\n",
    "console.println('Colorized text', color=console.MAGENTA)\n",
    "console.println('Colorized text', color=console.RED)\n",
    "console.println('Colorized text', color=console.GREEN)"
   ]
  },
  {
   "cell_type": "markdown",
   "metadata": {},
   "source": [
    "## Printing blocks of text\n",
    "### Block of text in decorators"
   ]
  },
  {
   "cell_type": "code",
   "execution_count": 6,
   "metadata": {},
   "outputs": [
    {
     "name": "stdout",
     "output_type": "stream",
     "text": [
      "START BLOCK MESSAGE WITH RETURN VALUE\n",
      "\n",
      "  Hello world\n",
      "\n",
      "END BLOCK MESSAGE WITH RETURN VALUE\n",
      "\n",
      "perfect\n",
      "START BLOCK MESSAGE WITHOUT RETURN VALUE\n",
      "\n",
      "  Hello Miniut\n",
      "\n",
      "END BLOCK MESSAGE WITHOUT RETURN VALUE\n",
      "\n"
     ]
    }
   ],
   "source": [
    "# Block example with return value\n",
    "@console.block('Block Message with return value')\n",
    "def foo(message: str):\n",
    "    console.println(message)\n",
    "    return 'perfect'\n",
    "\n",
    "# Block example without return value\n",
    "@console.block('Block Message without return value')\n",
    "def bar(message: str):\n",
    "    console.println(message)\n",
    "\n",
    "msg = foo('Hello world')\n",
    "console.println(msg)\n",
    "\n",
    "bar('Hello Miniut')"
   ]
  },
  {
   "cell_type": "markdown",
   "metadata": {},
   "source": [
    "### Block of text without decorators"
   ]
  },
  {
   "cell_type": "code",
   "execution_count": 7,
   "metadata": {},
   "outputs": [
    {
     "name": "stdout",
     "output_type": "stream",
     "text": [
      "START MY BLOCK\n",
      "  Hello Miniut\n",
      "END MY BLOCK\n",
      "\n"
     ]
    }
   ],
   "source": [
    "console.start_block('My block')\n",
    "console.println('Hello Miniut')\n",
    "console.end_block('My block')"
   ]
  },
  {
   "cell_type": "markdown",
   "metadata": {},
   "source": [
    "## Pintring matrixes"
   ]
  },
  {
   "cell_type": "markdown",
   "metadata": {},
   "source": [
    "### Box style"
   ]
  },
  {
   "cell_type": "code",
   "execution_count": 8,
   "metadata": {},
   "outputs": [
    {
     "name": "stdout",
     "output_type": "stream",
     "text": [
      "             Test 1   Column 2   three   \n",
      "           ------------------------------\n",
      "    row1 |     1         2         3      | \n",
      "    row2 |     4         5         6      | \n",
      "Filita 3 |     7         8         .      | \n",
      "           ------------------------------\n"
     ]
    }
   ],
   "source": [
    "matrix = [[1, 2, 3], [4, 5, 6], [7, 8, None]]\n",
    "\n",
    "# With personalized header and indexes\n",
    "console.print_matrix(matrix,\n",
    "                     header=['Test 1', 'Column 2', 'three'],\n",
    "                     indexes=['row1', 'row2', 'Filita 3'],\n",
    "                     nan_format='.'\n",
    "                     )"
   ]
  },
  {
   "cell_type": "code",
   "execution_count": 9,
   "metadata": {},
   "outputs": [
    {
     "name": "stdout",
     "output_type": "stream",
     "text": [
      "     Test 1   Column 2   three   \n",
      "   ------------------------------\n",
      " |     1         2         3      | \n",
      " |     4         5         6      | \n",
      " |     7         8         .      | \n",
      "   ------------------------------\n"
     ]
    }
   ],
   "source": [
    "# With personalized header and no indexes\n",
    "console.print_matrix(matrix,\n",
    "                     header=['Test 1', 'Column 2', 'three'],\n",
    "                     indexes=None,\n",
    "                     nan_format='.'\n",
    "                     )"
   ]
  },
  {
   "cell_type": "code",
   "execution_count": 10,
   "metadata": {},
   "outputs": [
    {
     "name": "stdout",
     "output_type": "stream",
     "text": [
      "          ---------\n",
      "   row1 |  1  2  3  | \n",
      "   row2 |  4  5  6  | \n",
      "index 3 |  7  8  .  | \n",
      "          ---------\n"
     ]
    }
   ],
   "source": [
    "# With no header and indexes\n",
    "console.print_matrix(matrix,\n",
    "                     header=None,\n",
    "                     indexes=['row1', 'row2', 'index 3'],\n",
    "                     nan_format='.'\n",
    "                     )"
   ]
  },
  {
   "cell_type": "code",
   "execution_count": 11,
   "metadata": {},
   "outputs": [
    {
     "name": "stdout",
     "output_type": "stream",
     "text": [
      "   ---------\n",
      " |  1  2  3  | \n",
      " |  4  5  6  | \n",
      " |  7  8  .  | \n",
      "   ---------\n"
     ]
    }
   ],
   "source": [
    "# With no header and no indexes\n",
    "console.print_matrix(matrix,\n",
    "                     header=None,\n",
    "                     indexes=None,\n",
    "                     nan_format='.'\n",
    "                     )"
   ]
  },
  {
   "cell_type": "code",
   "execution_count": 12,
   "metadata": {},
   "outputs": [
    {
     "name": "stdout",
     "output_type": "stream",
     "text": [
      "    ---------\n",
      "0 |  1  2  3  | \n",
      "1 |  4  5  6  | \n",
      "2 |  7  8  .  | \n",
      "    ---------\n"
     ]
    }
   ],
   "source": [
    "# With no header and default indexes\n",
    "console.print_matrix(matrix,\n",
    "                     header=None,\n",
    "                     nan_format='.'\n",
    "                     )"
   ]
  },
  {
   "cell_type": "code",
   "execution_count": 13,
   "metadata": {},
   "outputs": [
    {
     "name": "stdout",
     "output_type": "stream",
     "text": [
      "     0  1  2 \n",
      "    ---------\n",
      "0 |  1  2  3  | \n",
      "1 |  4  5  6  | \n",
      "2 |  7  8  .  | \n",
      "    ---------\n"
     ]
    }
   ],
   "source": [
    "# With default header and default indexes\n",
    "console.print_matrix(matrix,\n",
    "                     nan_format='.'\n",
    "                     )"
   ]
  },
  {
   "cell_type": "markdown",
   "metadata": {},
   "source": [
    "### numpy style"
   ]
  },
  {
   "cell_type": "code",
   "execution_count": 14,
   "metadata": {},
   "outputs": [
    {
     "name": "stdout",
     "output_type": "stream",
     "text": [
      "               Test 1   Column 2   three   \n",
      " [    row1 [     1         2         3      ]\n",
      "      row2 [     4         5         6      ]\n",
      "   Index 3 [     7         8         .      ]  ]\n"
     ]
    }
   ],
   "source": [
    "matrix = [[1, 2, 3], [4, 5, 6], [7, 8, None]]\n",
    "\n",
    "# With personalized header and indexes\n",
    "console.print_matrix(matrix,\n",
    "                     header=['Test 1', 'Column 2', 'three'],\n",
    "                     indexes=['row1', 'row2', 'Index 3'],\n",
    "                     nan_format='.',\n",
    "                     style='numpy'\n",
    "                     )"
   ]
  },
  {
   "cell_type": "code",
   "execution_count": 15,
   "metadata": {},
   "outputs": [
    {
     "name": "stdout",
     "output_type": "stream",
     "text": [
      " [  [  1  2  3  ]\n",
      "    [  4  5  6  ]\n",
      "    [  7  8  .  ]  ]\n"
     ]
    }
   ],
   "source": [
    "# With no header and no indexes\n",
    "console.print_matrix(matrix,\n",
    "                     header=None,\n",
    "                     indexes=None,\n",
    "                     nan_format='.',\n",
    "                     style='numpy'\n",
    "                     )"
   ]
  },
  {
   "cell_type": "code",
   "execution_count": 16,
   "metadata": {},
   "outputs": [
    {
     "name": "stdout",
     "output_type": "stream",
     "text": [
      " [ 0 [  1  2  3  ]\n",
      "   1 [  4  5  6  ]\n",
      "   2 [  7  8  .  ]  ]\n"
     ]
    }
   ],
   "source": [
    "# With no header and default indexes\n",
    "console.print_matrix(matrix,\n",
    "                     header=None,\n",
    "                     nan_format='.',\n",
    "                     style='numpy'\n",
    "                     )"
   ]
  }
 ],
 "metadata": {
  "kernelspec": {
   "display_name": "Python 3.8.11 ('minuit')",
   "language": "python",
   "name": "python3"
  },
  "language_info": {
   "codemirror_mode": {
    "name": "ipython",
    "version": 3
   },
   "file_extension": ".py",
   "mimetype": "text/x-python",
   "name": "python",
   "nbconvert_exporter": "python",
   "pygments_lexer": "ipython3",
   "version": "3.8.13"
  },
  "orig_nbformat": 4,
  "vscode": {
   "interpreter": {
    "hash": "521e8ead82f4f9752213b6c1c9f070a30a88728485c425201b97dd700432921d"
   }
  }
 },
 "nbformat": 4,
 "nbformat_minor": 2
}
